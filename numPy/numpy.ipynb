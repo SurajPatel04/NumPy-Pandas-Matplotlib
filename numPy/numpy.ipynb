{
 "cells": [
  {
   "cell_type": "markdown",
   "metadata": {},
   "source": [
    "## numPy basic array"
   ]
  },
  {
   "cell_type": "code",
   "execution_count": 1,
   "metadata": {},
   "outputs": [],
   "source": [
    "import numpy as np\n",
    "import matplotlib.pyplot as plt"
   ]
  },
  {
   "cell_type": "code",
   "execution_count": 2,
   "metadata": {},
   "outputs": [
    {
     "name": "stdout",
     "output_type": "stream",
     "text": [
      "1d array: \n",
      " [1 2 3]\n",
      "\n",
      "2d array: \n",
      " [[1 2 3]\n",
      " [4 5 6]]\n",
      "\n",
      "3d array: \n",
      " [[[ 1  2  3]\n",
      "  [ 3  2  1]]\n",
      "\n",
      " [[ 4  5  6]\n",
      "  [12  1  2]]]\n"
     ]
    }
   ],
   "source": [
    "arr_1d = np.array([1,2,3])\n",
    "arr_2d = np.array([[1,2,3],[4,5,6]])\n",
    "arr_3d = np.array([[[1,2,3],[3,2,1]],[[4,5,6],[12,1,2]]])\n",
    "print(\"1d array: \\n\",arr_1d)\n",
    "print(\"\\n2d array: \\n\",arr_2d)\n",
    "print(\"\\n3d array: \\n\",arr_3d)"
   ]
  },
  {
   "cell_type": "markdown",
   "metadata": {},
   "source": [
    "### Numpy vs Python List"
   ]
  },
  {
   "cell_type": "code",
   "execution_count": null,
   "metadata": {},
   "outputs": [
    {
     "name": "stdout",
     "output_type": "stream",
     "text": [
      "Python list multiplication:  [1, 2, 3, 1, 2, 3]\n",
      "Numpy array multiplication:  [2 4 6]\n"
     ]
    }
   ],
   "source": [
    "py_list = [1,2,3]\n",
    "print(\"Python list multiplication: \",py_list * 2)\n",
    "\n",
    "np_array = np.array([1,2,3])\n",
    "print(\"Numpy array multiplication: \", np_array * 2)\n"
   ]
  },
  {
   "cell_type": "markdown",
   "metadata": {},
   "source": [
    "### Creating array from scratch"
   ]
  },
  {
   "cell_type": "code",
   "execution_count": 23,
   "metadata": {},
   "outputs": [
    {
     "name": "stdout",
     "output_type": "stream",
     "text": [
      "[[0.77039651 0.9711512  0.88625771]\n",
      " [0.01653206 0.49930104 0.79389098]]\n"
     ]
    }
   ],
   "source": [
    "# np.zeros((rowa,columns))\n",
    "# zeros = np.zeros((2,3))\n",
    "# print(zeros)\n",
    "\n",
    "# ones = np.ones((2,3))\n",
    "# print(ones)\n",
    "\n",
    "\n",
    "# full = np.full((2,3),7)\n",
    "# print(full)\n",
    "\n",
    "# arr = np.arange(10)\n",
    "# print(arr)\n",
    "\n",
    "random_matrix = np.random.random((2,3))\n",
    "print(random_matrix)"
   ]
  },
  {
   "cell_type": "markdown",
   "metadata": {},
   "source": [
    "### Checking the diemnsion of the array "
   ]
  },
  {
   "cell_type": "code",
   "execution_count": null,
   "metadata": {},
   "outputs": [
    {
     "name": "stdout",
     "output_type": "stream",
     "text": [
      "a array dimension:  0\n",
      "b array dimension:  1\n",
      "c array dimension:  2\n",
      "d array dimension:  3\n"
     ]
    }
   ],
   "source": [
    "a = np.array(42)\n",
    "b = np.array([1, 2, 3, 4, 5])\n",
    "c = np.array([[1, 2, 3], [4, 5, 6]])\n",
    "d = np.array([[[1, 2, 3], [4, 5, 6]], [[1, 2, 3], [4, 5, 6]]])\n",
    "\n",
    "print(\"a array dimension: \",a.ndim)\n",
    "print(\"b array dimension: \",b.ndim)\n",
    "print(\"c array dimension: \",c.ndim)\n",
    "print(\"d array dimension: \",d.ndim) "
   ]
  },
  {
   "cell_type": "markdown",
   "metadata": {},
   "source": [
    "### Vector, Matrix and tensor"
   ]
  },
  {
   "cell_type": "code",
   "execution_count": null,
   "metadata": {},
   "outputs": [
    {
     "name": "stdout",
     "output_type": "stream",
     "text": [
      "Vector: \n",
      " [1 2 3]\n",
      "\n",
      "Matrix: \n",
      " [[1 2 3]\n",
      " [4 5 6]]\n",
      "\n",
      "Tensor: \n",
      " [[[1 2]\n",
      "  [3 4]]\n",
      "\n",
      " [[5 6]\n",
      "  [7 8]]]\n"
     ]
    }
   ],
   "source": [
    "vector = np.array([1,2,3])\n",
    "matrix = np.array([[1, 2, 3], \n",
    "                   [4, 5, 6]]) \n",
    "tensor = np.array([\n",
    "    [[1, 2], [3, 4]],\n",
    "    [[5, 6], [7, 8]]\n",
    "])\n",
    "print(\"Vector: \\n\",vector)\n",
    "print(\"\\nMatrix: \\n\",matrix)\n",
    "print(\"\\nTensor: \\n\",tensor)\n"
   ]
  },
  {
   "cell_type": "markdown",
   "metadata": {},
   "source": [
    "### Array properties"
   ]
  },
  {
   "cell_type": "code",
   "execution_count": null,
   "metadata": {},
   "outputs": [
    {
     "name": "stdout",
     "output_type": "stream",
     "text": [
      "Shape of array:  (2, 3)\n",
      "Size of array:  6\n",
      "Dimension of arrau: 2\n",
      "Data Type of array: int64\n"
     ]
    }
   ],
   "source": [
    "arr = np.array([[1,2,3],\n",
    "                [4,5,6]])\n",
    "print(\"Shape of array: \",arr.shape)\n",
    "print(\"Size of array: \",arr.size)\n",
    "print(\"Dimension of arrau:\" ,arr.ndim)\n",
    "print(\"Data Type of array:\", arr.dtype)"
   ]
  },
  {
   "cell_type": "markdown",
   "metadata": {},
   "source": [
    "### Array Shaping"
   ]
  },
  {
   "cell_type": "code",
   "execution_count": null,
   "metadata": {},
   "outputs": [
    {
     "name": "stdout",
     "output_type": "stream",
     "text": [
      "Original array:  [ 0  1  2  3  4  5  6  7  8  9 10 11]\n",
      "\n",
      "Reshaped array: \n",
      " [[ 0  1  2  3]\n",
      " [ 4  5  6  7]\n",
      " [ 8  9 10 11]]\n",
      "\n",
      " Flattend array: \n",
      " [ 0  1  2  3  4  5  6  7  8  9 10 11]\n",
      "\n",
      " raveled array: \n",
      " [ 0  1  2  3  4  5  6  7  8  9 10 11]\n",
      "\n",
      " transpose array: \n",
      " [[ 0  4  8]\n",
      " [ 1  5  9]\n",
      " [ 2  6 10]\n",
      " [ 3  7 11]]\n"
     ]
    }
   ],
   "source": [
    "arr = np.arange(12)\n",
    "print(\"Original array: \",arr)\n",
    "\n",
    "reshaped = arr.reshape((3,4))\n",
    "print(\"\\nReshaped array: \\n\",reshaped)\n",
    "\n",
    "flattend = reshaped.flatten()\n",
    "print(\"\\n Flattend array: \\n\", flattend)\n",
    "\n",
    "# ravel (returns view, insted of copy)\n",
    "raveled = reshaped.ravel()\n",
    "print(\"\\n raveled array: \\n\", raveled)\n",
    "\n",
    "# transpose\n",
    "transpose = reshaped.T\n",
    "print(\"\\n transpose array: \\n\", transpose)\n",
    "\n"
   ]
  },
  {
   "cell_type": "markdown",
   "metadata": {},
   "source": [
    "### Indexing and Slicing"
   ]
  },
  {
   "cell_type": "code",
   "execution_count": null,
   "metadata": {},
   "outputs": [
    {
     "name": "stdout",
     "output_type": "stream",
     "text": [
      "[2 3 4 5 6 7]\n",
      "[2 4 6]\n",
      "3\n"
     ]
    }
   ],
   "source": [
    "arr = np.array([1,2,3,4,5,6,7,8,8,10])\n",
    "print(arr[1:7])\n",
    "print(arr[1:7:2])\n",
    "print(arr[2])"
   ]
  },
  {
   "cell_type": "code",
   "execution_count": null,
   "metadata": {},
   "outputs": [
    {
     "name": "stdout",
     "output_type": "stream",
     "text": [
      "Specific element 5\n",
      "Entire row:  [4 5 6]\n",
      "Entrie Column:  [2 5 8]\n"
     ]
    }
   ],
   "source": [
    "arr_2d = np.array([[1,2,3],\n",
    "                   [4,5,6],\n",
    "                   [7,8,9]])\n",
    "print(\"Specific element\",arr_2d[1,1])\n",
    "print(\"Entire row: \", arr_2d[1])\n",
    "print(\"Entrie Column: \",arr_2d[:,1])"
   ]
  },
  {
   "cell_type": "markdown",
   "metadata": {},
   "source": [
    "### Sorting"
   ]
  },
  {
   "cell_type": "code",
   "execution_count": 3,
   "metadata": {},
   "outputs": [
    {
     "name": "stdout",
     "output_type": "stream",
     "text": [
      "Sorted Array:  [1 2 3 4 6 8 9]\n"
     ]
    }
   ],
   "source": [
    "arr_1d = np.array([4,1,6,2,8,9,3])\n",
    "print(\"Sorted Array: \", np.sort(arr_1d))"
   ]
  },
  {
   "cell_type": "code",
   "execution_count": 5,
   "metadata": {},
   "outputs": [
    {
     "name": "stdout",
     "output_type": "stream",
     "text": [
      "[[1 3]\n",
      " [3 9]\n",
      " [2 8]]\n",
      "Sorted 2d array by column [[3 1]\n",
      " [8 2]\n",
      " [9 3]]\n",
      "Sorted 2d array by rows [[1 3]\n",
      " [3 9]\n",
      " [2 8]]\n"
     ]
    }
   ],
   "source": [
    "arr_2d = np.array([[3,1],[9,3],[8,2]])\n",
    "print(np.sort(arr_2d))\n",
    "print(\"Sorted 2d array by column\",np.sort(arr_2d, axis=0))\n",
    "print(\"Sorted 2d array by rows\", np.sort(arr_2d, axis=1))"
   ]
  },
  {
   "cell_type": "markdown",
   "metadata": {},
   "source": [
    "### Filter"
   ]
  },
  {
   "cell_type": "code",
   "execution_count": null,
   "metadata": {},
   "outputs": [
    {
     "name": "stdout",
     "output_type": "stream",
     "text": [
      "[ 2  4  6  8 10]\n"
     ]
    }
   ],
   "source": [
    "numbers = np.array([1,2,3,4,5,6,7,8,9,10])\n",
    "even_number = numbers[numbers%2 == 0]\n",
    "print(even_number)"
   ]
  },
  {
   "cell_type": "markdown",
   "metadata": {},
   "source": [
    "### Filter with Mask"
   ]
  },
  {
   "cell_type": "code",
   "execution_count": 10,
   "metadata": {},
   "outputs": [
    {
     "name": "stdout",
     "output_type": "stream",
     "text": [
      "only mask vairable print: [False False False False False  True  True  True  True  True]\n",
      "Number greater than 5:  [ 6  7  8  9 10]\n"
     ]
    }
   ],
   "source": [
    "mask = numbers > 5\n",
    "print(\"only mask vairable print:\",mask)\n",
    "print(\"Number greater than 5: \", numbers[mask])"
   ]
  },
  {
   "cell_type": "markdown",
   "metadata": {},
   "source": [
    "### Indexing vs np.where()"
   ]
  },
  {
   "cell_type": "code",
   "execution_count": 22,
   "metadata": {},
   "outputs": [
    {
     "name": "stdout",
     "output_type": "stream",
     "text": [
      "Only Where result:  (array([5, 6, 7, 8, 9]),)\n",
      "Numbers where result:  [ 6  7  8  9 10]\n"
     ]
    }
   ],
   "source": [
    "# numbers = np.array([1,2,3,4,5,6,7,8,9,10])\n",
    "# indices = [1,4,7]\n",
    "# print(numbers[indices])\n",
    "\n",
    "Where_result = np.where(numbers > 5)\n",
    "print(\"Only Where result: \", Where_result)\n",
    "print(\"Numbers where result: \", numbers[Where_result])\n"
   ]
  },
  {
   "cell_type": "code",
   "execution_count": 24,
   "metadata": {},
   "outputs": [
    {
     "name": "stdout",
     "output_type": "stream",
     "text": [
      "[ 1  2  3  4  5 24 28 32 36 40]\n"
     ]
    }
   ],
   "source": [
    "numbers = np.array([1,2,3,4,5,6,7,8,9,10])\n",
    "condition_array = np.where(numbers > 5, numbers*4, numbers)\n",
    "print(condition_array)"
   ]
  },
  {
   "cell_type": "markdown",
   "metadata": {},
   "source": [
    "### Adding and removing data"
   ]
  },
  {
   "cell_type": "code",
   "execution_count": 30,
   "metadata": {},
   "outputs": [
    {
     "name": "stdout",
     "output_type": "stream",
     "text": [
      "This is do addition between arrays:  [15 18 21 24]\n",
      "Meging between array:  [ 1  2  3  4  5  6  7  8  9 10 11 12]\n"
     ]
    }
   ],
   "source": [
    "arr1 = np.array([1,2,3,4])\n",
    "arr2 = np.array([5,6,7,8])\n",
    "arr3 = np.array([9,10,11,12])\n",
    "adding = arr1+arr2+arr3\n",
    "combined = np.concatenate((arr1, arr2, arr3))\n",
    "print(\"This is do addition between arrays: \",adding)\n",
    "print(\"Meging between array: \",combined)"
   ]
  },
  {
   "cell_type": "markdown",
   "metadata": {},
   "source": [
    "### Row merge in n dimension and column merge in n diemsntion "
   ]
  },
  {
   "cell_type": "code",
   "execution_count": 36,
   "metadata": {},
   "outputs": [
    {
     "name": "stdout",
     "output_type": "stream",
     "text": [
      "[[1 2]\n",
      " [3 4]\n",
      " [5 6]]\n",
      "[[1 2 1]\n",
      " [3 4 2]]\n"
     ]
    }
   ],
   "source": [
    "arr1 = np.array([[1,2],[3,4]])\n",
    "new_row = np.array([[5,6]])\n",
    "with_new_row = np.vstack((arr1,new_row))\n",
    "print(with_new_row)\n",
    "\n",
    "new_col = np.array([[1],[2]])\n",
    "with_col = np.hstack((arr1,new_col))\n",
    "print(with_col)"
   ]
  },
  {
   "cell_type": "markdown",
   "metadata": {},
   "source": [
    "### Delete"
   ]
  },
  {
   "cell_type": "code",
   "execution_count": 38,
   "metadata": {},
   "outputs": [
    {
     "name": "stdout",
     "output_type": "stream",
     "text": [
      "[1 2 4 5 6 7 8]\n"
     ]
    }
   ],
   "source": [
    "arr = np.array([1,2,3,4,5,6,7,8])\n",
    "new_array = np.delete(arr,2)\n",
    "print(new_array)"
   ]
  },
  {
   "cell_type": "code",
   "execution_count": null,
   "metadata": {},
   "outputs": [
    {
     "name": "stdout",
     "output_type": "stream",
     "text": [
      "[[1 2 3]\n",
      " [7 8 9]]\n"
     ]
    }
   ],
   "source": [
    "matrix = np.array([[1, 2, 3], [4, 5, 6], [7, 8, 9]])\n",
    "new_matrix = np.delete(matrix, 1, axis=0)  # Deletes row at index 1\n",
    "print(new_matrix)\n"
   ]
  },
  {
   "cell_type": "code",
   "execution_count": 40,
   "metadata": {},
   "outputs": [
    {
     "name": "stdout",
     "output_type": "stream",
     "text": [
      "[[1 3]\n",
      " [4 6]\n",
      " [7 9]]\n"
     ]
    }
   ],
   "source": [
    "matrix = np.array([[1, 2, 3], [4, 5, 6], [7, 8, 9]])\n",
    "new_matrix = np.delete(matrix, 1, axis=1)  # Deletes column at index 1\n",
    "print(new_matrix)\n"
   ]
  },
  {
   "cell_type": "code",
   "execution_count": 42,
   "metadata": {},
   "outputs": [
    {
     "name": "stdout",
     "output_type": "stream",
     "text": [
      "[10 30 50]\n"
     ]
    }
   ],
   "source": [
    "arr = np.array([10, 20, 30, 40, 50])\n",
    "new_arr = np.delete(arr, [1, 3])\n",
    "print(new_arr)\n"
   ]
  },
  {
   "cell_type": "markdown",
   "metadata": {},
   "source": [
    "### Advance operations with Business examples"
   ]
  },
  {
   "cell_type": "code",
   "execution_count": 49,
   "metadata": {},
   "outputs": [
    {
     "name": "stdout",
     "output_type": "stream",
     "text": [
      "=== Data analysis ===\n",
      "\n",
      " Sales data shape (5, 5)\n",
      "\n",
      " Sample data of 1st 3 resturant: \n",
      " [[     1 150000 180000 220000 250000]\n",
      " [     2 120000 140000 160000 190000]\n",
      " [     3 200000 230000 260000 300000]]\n"
     ]
    }
   ],
   "source": [
    "# Data structure: [restaurant_id, 2021, 2022, 2023, 2024]\n",
    "\n",
    "sales_data = np.array([\n",
    "    [1,150000,180000,220000,250000],\n",
    "    [2,120000,140000,160000,190000],\n",
    "    [3,200000,230000,260000,300000],\n",
    "    [4,180000,210000,240000,270000],\n",
    "    [5,160000,210000,205000,230000]\n",
    "])\n",
    "print(\"=== Data analysis ===\")\n",
    "print(\"\\n Sales data shape\",sales_data.shape)\n",
    "print(\"\\n Sample data of 1st 3 resturant: \\n\", sales_data[:3])"
   ]
  },
  {
   "cell_type": "code",
   "execution_count": 64,
   "metadata": {},
   "outputs": [
    {
     "name": "stdout",
     "output_type": "stream",
     "text": [
      "[ 810000  970000 1085000 1240000]\n",
      "[[1]\n",
      " [2]\n",
      " [3]\n",
      " [4]\n",
      " [5]]\n",
      "[150000 120000 200000 180000 160000]\n"
     ]
    }
   ],
   "source": [
    "year_total = np.sum(sales_data[:, 1:],axis=0)\n",
    "print(year_total)\n",
    "\n",
    "min_sales = np.min(sales_data[:,1:], axis=1)\n",
    "print(sales_data[:, 0:2:3])\n",
    "print(min_sales)"
   ]
  },
  {
   "cell_type": "code",
   "execution_count": null,
   "metadata": {},
   "outputs": [
    {
     "name": "stdout",
     "output_type": "stream",
     "text": [
      "0.26554161733900966\n"
     ]
    }
   ],
   "source": [
    "vector1 = np.array([1,2,3,4,5])\n",
    "vector2 = np.array([6,7,8,9,10])\n",
    "\n",
    "print(\"Vector Addition: \", vector1+vector2)\n",
    "print(\"Multiplication vector: \", vector1 * vector2)\n",
    "print(\"Dot product: \",np.dot(vector1,vector2))\n",
    "\n",
    "angle = np.arccos(np.dot(vector1,vector2) / (np.linalg.norm(vector1) * np.linalg.norm(vector2)))\n",
    "print(angle)"
   ]
  },
  {
   "cell_type": "code",
   "execution_count": 71,
   "metadata": {},
   "outputs": [
    {
     "name": "stdout",
     "output_type": "stream",
     "text": [
      "['CHINESS' 'BIRYANI' 'PIZZA']\n"
     ]
    }
   ],
   "source": [
    "restaurant_type = np.array([\"chiness\",\"biryani\",\"pizza\"])\n",
    "vectorized_upper = np.vectorize(str.upper)\n",
    "print(vectorized_upper(restaurant_type))"
   ]
  },
  {
   "cell_type": "code",
   "execution_count": 73,
   "metadata": {},
   "outputs": [
    {
     "name": "stdout",
     "output_type": "stream",
     "text": [
      "[[12500.         15000.         18333.33333333 20833.33333333]\n",
      " [10000.         11666.66666667 13333.33333333 15833.33333333]\n",
      " [16666.66666667 19166.66666667 21666.66666667 25000.        ]\n",
      " [15000.         17500.         20000.         22500.        ]\n",
      " [13333.33333333 17500.         17083.33333333 19166.66666667]]\n"
     ]
    }
   ],
   "source": [
    "sales_data = np.array([\n",
    "    [1,150000,180000,220000,250000],\n",
    "    [2,120000,140000,160000,190000],\n",
    "    [3,200000,230000,260000,300000],\n",
    "    [4,180000,210000,240000,270000],\n",
    "    [5,160000,210000,205000,230000]\n",
    "])\n",
    "\n",
    "month_avg = sales_data[:,1:] / 12\n",
    "print(month_avg)"
   ]
  },
  {
   "cell_type": "code",
   "execution_count": 76,
   "metadata": {},
   "outputs": [
    {
     "name": "stdout",
     "output_type": "stream",
     "text": [
      "[[1 2 3]\n",
      " [2 4 1]]\n"
     ]
    }
   ],
   "source": [
    "arr1 = np.array([[1,2,3],[2,4,1]])\n",
    "np.save(\"array1.npy\",arr1)\n",
    "print(arr1)"
   ]
  },
  {
   "cell_type": "code",
   "execution_count": 77,
   "metadata": {},
   "outputs": [
    {
     "name": "stdout",
     "output_type": "stream",
     "text": [
      "[[1 2 3]\n",
      " [2 4 1]]\n"
     ]
    }
   ],
   "source": [
    "loaded_array = np.load(\"array1.npy\")\n",
    "print(loaded_array)"
   ]
  },
  {
   "cell_type": "code",
   "execution_count": null,
   "metadata": {},
   "outputs": [],
   "source": []
  }
 ],
 "metadata": {
  "kernelspec": {
   "display_name": ".venv",
   "language": "python",
   "name": "python3"
  },
  "language_info": {
   "codemirror_mode": {
    "name": "ipython",
    "version": 3
   },
   "file_extension": ".py",
   "mimetype": "text/x-python",
   "name": "python",
   "nbconvert_exporter": "python",
   "pygments_lexer": "ipython3",
   "version": "3.12.7"
  }
 },
 "nbformat": 4,
 "nbformat_minor": 4
}
